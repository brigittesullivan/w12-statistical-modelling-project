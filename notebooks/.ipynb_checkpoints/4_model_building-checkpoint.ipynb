{
 "cells": [
  {
   "cell_type": "markdown",
   "metadata": {},
   "source": [
    "# 1. Regression Model Build and Evaluate"
   ]
  },
  {
   "cell_type": "code",
   "execution_count": 15,
   "metadata": {},
   "outputs": [],
   "source": [
    "# imports\n",
    "import pandas as pd\n",
    "import numpy as np\n",
    "import statsmodels.api as sm\n",
    "import os\n",
    "import seaborn as sns"
   ]
  },
  {
   "cell_type": "code",
   "execution_count": null,
   "metadata": {},
   "outputs": [],
   "source": []
  },
  {
   "cell_type": "markdown",
   "metadata": {},
   "source": [
    "## Import data"
   ]
  },
  {
   "cell_type": "code",
   "execution_count": 16,
   "metadata": {},
   "outputs": [
    {
     "data": {
      "text/html": [
       "<div>\n",
       "<style scoped>\n",
       "    .dataframe tbody tr th:only-of-type {\n",
       "        vertical-align: middle;\n",
       "    }\n",
       "\n",
       "    .dataframe tbody tr th {\n",
       "        vertical-align: top;\n",
       "    }\n",
       "\n",
       "    .dataframe thead th {\n",
       "        text-align: right;\n",
       "    }\n",
       "</style>\n",
       "<table border=\"1\" class=\"dataframe\">\n",
       "  <thead>\n",
       "    <tr style=\"text-align: right;\">\n",
       "      <th></th>\n",
       "      <th>station_id</th>\n",
       "      <th>name</th>\n",
       "      <th>free_bikes</th>\n",
       "      <th>empty_slots</th>\n",
       "      <th>has_ebikes</th>\n",
       "      <th>ebikes</th>\n",
       "      <th>slots</th>\n",
       "      <th>renting</th>\n",
       "      <th>returning</th>\n",
       "      <th>timestamp</th>\n",
       "      <th>station_location</th>\n",
       "      <th>outdoor_space_num</th>\n",
       "      <th>category_name</th>\n",
       "      <th>num_by_cat</th>\n",
       "      <th>num_parks</th>\n",
       "    </tr>\n",
       "  </thead>\n",
       "  <tbody>\n",
       "    <tr>\n",
       "      <th>0</th>\n",
       "      <td>36c6491aa1b52e5ef7005f984738de27</td>\n",
       "      <td>Gare d'autocars de Montréal (Berri / Ontario)</td>\n",
       "      <td>4</td>\n",
       "      <td>11</td>\n",
       "      <td>True</td>\n",
       "      <td>2</td>\n",
       "      <td>15</td>\n",
       "      <td>1</td>\n",
       "      <td>1</td>\n",
       "      <td>2023-08-31T14:04:02.318000Z</td>\n",
       "      <td>45.516926210319546,-73.56425732374191</td>\n",
       "      <td>49</td>\n",
       "      <td>Campground</td>\n",
       "      <td>1</td>\n",
       "      <td>27</td>\n",
       "    </tr>\n",
       "    <tr>\n",
       "      <th>1</th>\n",
       "      <td>36c6491aa1b52e5ef7005f984738de27</td>\n",
       "      <td>Gare d'autocars de Montréal (Berri / Ontario)</td>\n",
       "      <td>4</td>\n",
       "      <td>11</td>\n",
       "      <td>True</td>\n",
       "      <td>2</td>\n",
       "      <td>15</td>\n",
       "      <td>1</td>\n",
       "      <td>1</td>\n",
       "      <td>2023-08-31T14:04:02.318000Z</td>\n",
       "      <td>45.516926210319546,-73.56425732374191</td>\n",
       "      <td>49</td>\n",
       "      <td>Dog Park</td>\n",
       "      <td>1</td>\n",
       "      <td>27</td>\n",
       "    </tr>\n",
       "    <tr>\n",
       "      <th>2</th>\n",
       "      <td>36c6491aa1b52e5ef7005f984738de27</td>\n",
       "      <td>Gare d'autocars de Montréal (Berri / Ontario)</td>\n",
       "      <td>4</td>\n",
       "      <td>11</td>\n",
       "      <td>True</td>\n",
       "      <td>2</td>\n",
       "      <td>15</td>\n",
       "      <td>1</td>\n",
       "      <td>1</td>\n",
       "      <td>2023-08-31T14:04:02.318000Z</td>\n",
       "      <td>45.516926210319546,-73.56425732374191</td>\n",
       "      <td>49</td>\n",
       "      <td>Farm</td>\n",
       "      <td>1</td>\n",
       "      <td>27</td>\n",
       "    </tr>\n",
       "  </tbody>\n",
       "</table>\n",
       "</div>"
      ],
      "text/plain": [
       "                         station_id   \n",
       "0  36c6491aa1b52e5ef7005f984738de27  \\\n",
       "1  36c6491aa1b52e5ef7005f984738de27   \n",
       "2  36c6491aa1b52e5ef7005f984738de27   \n",
       "\n",
       "                                            name  free_bikes  empty_slots   \n",
       "0  Gare d'autocars de Montréal (Berri / Ontario)           4           11  \\\n",
       "1  Gare d'autocars de Montréal (Berri / Ontario)           4           11   \n",
       "2  Gare d'autocars de Montréal (Berri / Ontario)           4           11   \n",
       "\n",
       "   has_ebikes  ebikes  slots  renting  returning                    timestamp   \n",
       "0        True       2     15        1          1  2023-08-31T14:04:02.318000Z  \\\n",
       "1        True       2     15        1          1  2023-08-31T14:04:02.318000Z   \n",
       "2        True       2     15        1          1  2023-08-31T14:04:02.318000Z   \n",
       "\n",
       "                        station_location  outdoor_space_num category_name   \n",
       "0  45.516926210319546,-73.56425732374191                 49    Campground  \\\n",
       "1  45.516926210319546,-73.56425732374191                 49      Dog Park   \n",
       "2  45.516926210319546,-73.56425732374191                 49          Farm   \n",
       "\n",
       "   num_by_cat  num_parks  \n",
       "0           1         27  \n",
       "1           1         27  \n",
       "2           1         27  "
      ]
     },
     "execution_count": 16,
     "metadata": {},
     "output_type": "execute_result"
    }
   ],
   "source": [
    "# import all_data from part 3\n",
    "path = '/Users/brigitteasullivan/My Drive/0.Bootcamp/1. Data Course/lighthouse-data-notes/Week_12/Project/w12-statistical-modelling-project/data/all_data.csv'\n",
    "all_data = pd.read_csv(path)\n",
    "all_data.head(3)"
   ]
  },
  {
   "cell_type": "code",
   "execution_count": 30,
   "metadata": {},
   "outputs": [
    {
     "data": {
      "text/html": [
       "<div>\n",
       "<style scoped>\n",
       "    .dataframe tbody tr th:only-of-type {\n",
       "        vertical-align: middle;\n",
       "    }\n",
       "\n",
       "    .dataframe tbody tr th {\n",
       "        vertical-align: top;\n",
       "    }\n",
       "\n",
       "    .dataframe thead th {\n",
       "        text-align: right;\n",
       "    }\n",
       "</style>\n",
       "<table border=\"1\" class=\"dataframe\">\n",
       "  <thead>\n",
       "    <tr style=\"text-align: right;\">\n",
       "      <th></th>\n",
       "      <th>station_id</th>\n",
       "      <th>free_bikes</th>\n",
       "      <th>empty_slots</th>\n",
       "      <th>ebikes</th>\n",
       "      <th>slots</th>\n",
       "      <th>outdoor_space_num</th>\n",
       "      <th>num_parks</th>\n",
       "    </tr>\n",
       "  </thead>\n",
       "  <tbody>\n",
       "    <tr>\n",
       "      <th>0</th>\n",
       "      <td>36c6491aa1b52e5ef7005f984738de27</td>\n",
       "      <td>4</td>\n",
       "      <td>11</td>\n",
       "      <td>2</td>\n",
       "      <td>15</td>\n",
       "      <td>49</td>\n",
       "      <td>27</td>\n",
       "    </tr>\n",
       "    <tr>\n",
       "      <th>1</th>\n",
       "      <td>8db822a266b5ccb3a1e323ddc8721d62</td>\n",
       "      <td>3</td>\n",
       "      <td>16</td>\n",
       "      <td>0</td>\n",
       "      <td>19</td>\n",
       "      <td>8</td>\n",
       "      <td>3</td>\n",
       "    </tr>\n",
       "    <tr>\n",
       "      <th>2</th>\n",
       "      <td>660275cd7d4368cc7590f1606c633bd6</td>\n",
       "      <td>10</td>\n",
       "      <td>15</td>\n",
       "      <td>8</td>\n",
       "      <td>25</td>\n",
       "      <td>9</td>\n",
       "      <td>7</td>\n",
       "    </tr>\n",
       "  </tbody>\n",
       "</table>\n",
       "</div>"
      ],
      "text/plain": [
       "                         station_id  free_bikes  empty_slots  ebikes  slots   \n",
       "0  36c6491aa1b52e5ef7005f984738de27           4           11       2     15  \\\n",
       "1  8db822a266b5ccb3a1e323ddc8721d62           3           16       0     19   \n",
       "2  660275cd7d4368cc7590f1606c633bd6          10           15       8     25   \n",
       "\n",
       "   outdoor_space_num  num_parks  \n",
       "0                 49         27  \n",
       "1                  8          3  \n",
       "2                  9          7  "
      ]
     },
     "execution_count": 30,
     "metadata": {},
     "output_type": "execute_result"
    }
   ],
   "source": [
    "# import all_data_numeric from part 3\n",
    "path = '/Users/brigitteasullivan/My Drive/0.Bootcamp/1. Data Course/lighthouse-data-notes/Week_12/Project/w12-statistical-modelling-project/data/all_data_numeric.csv'\n",
    "all_data_numeric = pd.read_csv(path)\n",
    "all_data_numeric.head(3)"
   ]
  },
  {
   "cell_type": "markdown",
   "metadata": {},
   "source": [
    "## Build a regression model."
   ]
  },
  {
   "cell_type": "code",
   "execution_count": 31,
   "metadata": {},
   "outputs": [],
   "source": [
    "# max - 3 iterations before moving on to stretch"
   ]
  },
  {
   "cell_type": "code",
   "execution_count": 32,
   "metadata": {},
   "outputs": [
    {
     "data": {
      "text/html": [
       "<div>\n",
       "<style scoped>\n",
       "    .dataframe tbody tr th:only-of-type {\n",
       "        vertical-align: middle;\n",
       "    }\n",
       "\n",
       "    .dataframe tbody tr th {\n",
       "        vertical-align: top;\n",
       "    }\n",
       "\n",
       "    .dataframe thead th {\n",
       "        text-align: right;\n",
       "    }\n",
       "</style>\n",
       "<table border=\"1\" class=\"dataframe\">\n",
       "  <thead>\n",
       "    <tr style=\"text-align: right;\">\n",
       "      <th></th>\n",
       "      <th>free_bikes</th>\n",
       "      <th>empty_slots</th>\n",
       "      <th>ebikes</th>\n",
       "      <th>slots</th>\n",
       "      <th>outdoor_space_num</th>\n",
       "      <th>num_parks</th>\n",
       "    </tr>\n",
       "  </thead>\n",
       "  <tbody>\n",
       "    <tr>\n",
       "      <th>count</th>\n",
       "      <td>768.000000</td>\n",
       "      <td>768.000000</td>\n",
       "      <td>768.000000</td>\n",
       "      <td>768.000000</td>\n",
       "      <td>768.000000</td>\n",
       "      <td>768.000000</td>\n",
       "    </tr>\n",
       "    <tr>\n",
       "      <th>mean</th>\n",
       "      <td>8.734375</td>\n",
       "      <td>12.132812</td>\n",
       "      <td>1.695312</td>\n",
       "      <td>21.923177</td>\n",
       "      <td>23.640625</td>\n",
       "      <td>9.791667</td>\n",
       "    </tr>\n",
       "    <tr>\n",
       "      <th>std</th>\n",
       "      <td>8.605796</td>\n",
       "      <td>7.393790</td>\n",
       "      <td>2.607457</td>\n",
       "      <td>7.108075</td>\n",
       "      <td>16.251479</td>\n",
       "      <td>6.811742</td>\n",
       "    </tr>\n",
       "    <tr>\n",
       "      <th>min</th>\n",
       "      <td>0.000000</td>\n",
       "      <td>0.000000</td>\n",
       "      <td>0.000000</td>\n",
       "      <td>11.000000</td>\n",
       "      <td>1.000000</td>\n",
       "      <td>1.000000</td>\n",
       "    </tr>\n",
       "    <tr>\n",
       "      <th>25%</th>\n",
       "      <td>2.000000</td>\n",
       "      <td>6.000000</td>\n",
       "      <td>0.000000</td>\n",
       "      <td>18.750000</td>\n",
       "      <td>9.000000</td>\n",
       "      <td>4.000000</td>\n",
       "    </tr>\n",
       "    <tr>\n",
       "      <th>50%</th>\n",
       "      <td>7.000000</td>\n",
       "      <td>12.000000</td>\n",
       "      <td>1.000000</td>\n",
       "      <td>19.000000</td>\n",
       "      <td>19.000000</td>\n",
       "      <td>8.000000</td>\n",
       "    </tr>\n",
       "    <tr>\n",
       "      <th>75%</th>\n",
       "      <td>13.000000</td>\n",
       "      <td>17.000000</td>\n",
       "      <td>2.000000</td>\n",
       "      <td>23.000000</td>\n",
       "      <td>38.000000</td>\n",
       "      <td>14.000000</td>\n",
       "    </tr>\n",
       "    <tr>\n",
       "      <th>max</th>\n",
       "      <td>60.000000</td>\n",
       "      <td>56.000000</td>\n",
       "      <td>15.000000</td>\n",
       "      <td>81.000000</td>\n",
       "      <td>51.000000</td>\n",
       "      <td>34.000000</td>\n",
       "    </tr>\n",
       "  </tbody>\n",
       "</table>\n",
       "</div>"
      ],
      "text/plain": [
       "       free_bikes  empty_slots      ebikes       slots  outdoor_space_num   \n",
       "count  768.000000   768.000000  768.000000  768.000000         768.000000  \\\n",
       "mean     8.734375    12.132812    1.695312   21.923177          23.640625   \n",
       "std      8.605796     7.393790    2.607457    7.108075          16.251479   \n",
       "min      0.000000     0.000000    0.000000   11.000000           1.000000   \n",
       "25%      2.000000     6.000000    0.000000   18.750000           9.000000   \n",
       "50%      7.000000    12.000000    1.000000   19.000000          19.000000   \n",
       "75%     13.000000    17.000000    2.000000   23.000000          38.000000   \n",
       "max     60.000000    56.000000   15.000000   81.000000          51.000000   \n",
       "\n",
       "        num_parks  \n",
       "count  768.000000  \n",
       "mean     9.791667  \n",
       "std      6.811742  \n",
       "min      1.000000  \n",
       "25%      4.000000  \n",
       "50%      8.000000  \n",
       "75%     14.000000  \n",
       "max     34.000000  "
      ]
     },
     "execution_count": 32,
     "metadata": {},
     "output_type": "execute_result"
    }
   ],
   "source": [
    "all_data_numeric.describe()"
   ]
  },
  {
   "cell_type": "code",
   "execution_count": 34,
   "metadata": {
    "tags": []
   },
   "outputs": [
    {
     "data": {
      "text/html": [
       "<div>\n",
       "<style scoped>\n",
       "    .dataframe tbody tr th:only-of-type {\n",
       "        vertical-align: middle;\n",
       "    }\n",
       "\n",
       "    .dataframe tbody tr th {\n",
       "        vertical-align: top;\n",
       "    }\n",
       "\n",
       "    .dataframe thead th {\n",
       "        text-align: right;\n",
       "    }\n",
       "</style>\n",
       "<table border=\"1\" class=\"dataframe\">\n",
       "  <thead>\n",
       "    <tr style=\"text-align: right;\">\n",
       "      <th></th>\n",
       "      <th>const</th>\n",
       "      <th>outdoor_space_num</th>\n",
       "    </tr>\n",
       "  </thead>\n",
       "  <tbody>\n",
       "    <tr>\n",
       "      <th>0</th>\n",
       "      <td>1.0</td>\n",
       "      <td>49</td>\n",
       "    </tr>\n",
       "    <tr>\n",
       "      <th>1</th>\n",
       "      <td>1.0</td>\n",
       "      <td>8</td>\n",
       "    </tr>\n",
       "    <tr>\n",
       "      <th>2</th>\n",
       "      <td>1.0</td>\n",
       "      <td>9</td>\n",
       "    </tr>\n",
       "    <tr>\n",
       "      <th>3</th>\n",
       "      <td>1.0</td>\n",
       "      <td>6</td>\n",
       "    </tr>\n",
       "    <tr>\n",
       "      <th>4</th>\n",
       "      <td>1.0</td>\n",
       "      <td>8</td>\n",
       "    </tr>\n",
       "  </tbody>\n",
       "</table>\n",
       "</div>"
      ],
      "text/plain": [
       "   const  outdoor_space_num\n",
       "0    1.0                 49\n",
       "1    1.0                  8\n",
       "2    1.0                  9\n",
       "3    1.0                  6\n",
       "4    1.0                  8"
      ]
     },
     "execution_count": 34,
     "metadata": {},
     "output_type": "execute_result"
    }
   ],
   "source": [
    "#free bikes + outdoor space num\n",
    "y = all_data_numeric['free_bikes']\n",
    "X = all_data_numeric['outdoor_space_num']\n",
    "X = sm.add_constant(X) #adds a column of 1's so the model will contain an intercept, bias\n",
    "X.head()"
   ]
  },
  {
   "cell_type": "code",
   "execution_count": 35,
   "metadata": {},
   "outputs": [
    {
     "name": "stdout",
     "output_type": "stream",
     "text": [
      "                            OLS Regression Results                            \n",
      "==============================================================================\n",
      "Dep. Variable:             free_bikes   R-squared:                       0.054\n",
      "Model:                            OLS   Adj. R-squared:                  0.053\n",
      "Method:                 Least Squares   F-statistic:                     43.71\n",
      "Date:                Thu, 31 Aug 2023   Prob (F-statistic):           7.13e-11\n",
      "Time:                        12:00:48   Log-Likelihood:                -2721.0\n",
      "No. Observations:                 768   AIC:                             5446.\n",
      "Df Residuals:                     766   BIC:                             5455.\n",
      "Df Model:                           1                                         \n",
      "Covariance Type:            nonrobust                                         \n",
      "=====================================================================================\n",
      "                        coef    std err          t      P>|t|      [0.025      0.975]\n",
      "-------------------------------------------------------------------------------------\n",
      "const                 5.8257      0.534     10.915      0.000       4.778       6.874\n",
      "outdoor_space_num     0.1230      0.019      6.611      0.000       0.087       0.160\n",
      "==============================================================================\n",
      "Omnibus:                      166.628   Durbin-Watson:                   1.927\n",
      "Prob(Omnibus):                  0.000   Jarque-Bera (JB):              346.678\n",
      "Skew:                           1.206   Prob(JB):                     5.25e-76\n",
      "Kurtosis:                       5.240   Cond. No.                         50.7\n",
      "==============================================================================\n",
      "\n",
      "Notes:\n",
      "[1] Standard Errors assume that the covariance matrix of the errors is correctly specified.\n"
     ]
    }
   ],
   "source": [
    "model = sm.OLS(y, X) ## must be y first in statsmodel syntax (scikit learn is x first)\n",
    "results = model.fit() #fit the model (this is where OLS is actually being run) - WHere math is done\n",
    "print(results.summary())"
   ]
  },
  {
   "cell_type": "code",
   "execution_count": 37,
   "metadata": {},
   "outputs": [
    {
     "data": {
      "text/html": [
       "<div>\n",
       "<style scoped>\n",
       "    .dataframe tbody tr th:only-of-type {\n",
       "        vertical-align: middle;\n",
       "    }\n",
       "\n",
       "    .dataframe tbody tr th {\n",
       "        vertical-align: top;\n",
       "    }\n",
       "\n",
       "    .dataframe thead th {\n",
       "        text-align: right;\n",
       "    }\n",
       "</style>\n",
       "<table border=\"1\" class=\"dataframe\">\n",
       "  <thead>\n",
       "    <tr style=\"text-align: right;\">\n",
       "      <th></th>\n",
       "      <th>const</th>\n",
       "      <th>num_parks</th>\n",
       "    </tr>\n",
       "  </thead>\n",
       "  <tbody>\n",
       "    <tr>\n",
       "      <th>0</th>\n",
       "      <td>1.0</td>\n",
       "      <td>27</td>\n",
       "    </tr>\n",
       "    <tr>\n",
       "      <th>1</th>\n",
       "      <td>1.0</td>\n",
       "      <td>3</td>\n",
       "    </tr>\n",
       "    <tr>\n",
       "      <th>2</th>\n",
       "      <td>1.0</td>\n",
       "      <td>7</td>\n",
       "    </tr>\n",
       "    <tr>\n",
       "      <th>3</th>\n",
       "      <td>1.0</td>\n",
       "      <td>3</td>\n",
       "    </tr>\n",
       "    <tr>\n",
       "      <th>4</th>\n",
       "      <td>1.0</td>\n",
       "      <td>4</td>\n",
       "    </tr>\n",
       "  </tbody>\n",
       "</table>\n",
       "</div>"
      ],
      "text/plain": [
       "   const  num_parks\n",
       "0    1.0         27\n",
       "1    1.0          3\n",
       "2    1.0          7\n",
       "3    1.0          3\n",
       "4    1.0          4"
      ]
     },
     "execution_count": 37,
     "metadata": {},
     "output_type": "execute_result"
    }
   ],
   "source": [
    "#free bikes + parks num\n",
    "y = all_data_numeric['free_bikes']\n",
    "X = all_data_numeric['num_parks']\n",
    "X = sm.add_constant(X) #adds a column of 1's so the model will contain an intercept, bias\n",
    "X.head()"
   ]
  },
  {
   "cell_type": "code",
   "execution_count": 38,
   "metadata": {},
   "outputs": [
    {
     "name": "stdout",
     "output_type": "stream",
     "text": [
      "                            OLS Regression Results                            \n",
      "==============================================================================\n",
      "Dep. Variable:             free_bikes   R-squared:                       0.002\n",
      "Model:                            OLS   Adj. R-squared:                  0.000\n",
      "Method:                 Least Squares   F-statistic:                     1.368\n",
      "Date:                Thu, 31 Aug 2023   Prob (F-statistic):              0.242\n",
      "Time:                        12:01:51   Log-Likelihood:                -2741.6\n",
      "No. Observations:                 768   AIC:                             5487.\n",
      "Df Residuals:                     766   BIC:                             5497.\n",
      "Df Model:                           1                                         \n",
      "Covariance Type:            nonrobust                                         \n",
      "==============================================================================\n",
      "                 coef    std err          t      P>|t|      [0.025      0.975]\n",
      "------------------------------------------------------------------------------\n",
      "const          9.2567      0.544     17.020      0.000       8.189      10.324\n",
      "num_parks     -0.0533      0.046     -1.170      0.242      -0.143       0.036\n",
      "==============================================================================\n",
      "Omnibus:                      234.135   Durbin-Watson:                   1.907\n",
      "Prob(Omnibus):                  0.000   Jarque-Bera (JB):              641.192\n",
      "Skew:                           1.541   Prob(JB):                    5.85e-140\n",
      "Kurtosis:                       6.247   Cond. No.                         21.0\n",
      "==============================================================================\n",
      "\n",
      "Notes:\n",
      "[1] Standard Errors assume that the covariance matrix of the errors is correctly specified.\n"
     ]
    }
   ],
   "source": [
    "model = sm.OLS(y, X) ## must be y first in statsmodel syntax (scikit learn is x first)\n",
    "results = model.fit() #fit the model (this is where OLS is actually being run) - WHere math is done\n",
    "print(results.summary())"
   ]
  },
  {
   "cell_type": "code",
   "execution_count": 40,
   "metadata": {},
   "outputs": [
    {
     "name": "stdout",
     "output_type": "stream",
     "text": [
      "                            OLS Regression Results                            \n",
      "==============================================================================\n",
      "Dep. Variable:                  slots   R-squared:                       0.153\n",
      "Model:                            OLS   Adj. R-squared:                  0.152\n",
      "Method:                 Least Squares   F-statistic:                     138.0\n",
      "Date:                Thu, 31 Aug 2023   Prob (F-statistic):           2.08e-29\n",
      "Time:                        12:03:45   Log-Likelihood:                -2531.9\n",
      "No. Observations:                 768   AIC:                             5068.\n",
      "Df Residuals:                     766   BIC:                             5077.\n",
      "Df Model:                           1                                         \n",
      "Covariance Type:            nonrobust                                         \n",
      "=====================================================================================\n",
      "                        coef    std err          t      P>|t|      [0.025      0.975]\n",
      "-------------------------------------------------------------------------------------\n",
      "const                17.8837      0.417     42.861      0.000      17.065      18.703\n",
      "outdoor_space_num     0.1709      0.015     11.746      0.000       0.142       0.199\n",
      "==============================================================================\n",
      "Omnibus:                      382.595   Durbin-Watson:                   1.751\n",
      "Prob(Omnibus):                  0.000   Jarque-Bera (JB):             3733.639\n",
      "Skew:                           2.022   Prob(JB):                         0.00\n",
      "Kurtosis:                      13.016   Cond. No.                         50.7\n",
      "==============================================================================\n",
      "\n",
      "Notes:\n",
      "[1] Standard Errors assume that the covariance matrix of the errors is correctly specified.\n"
     ]
    }
   ],
   "source": [
    "#slots bikes + outdoor space num\n",
    "y = all_data_numeric['slots']\n",
    "X = all_data_numeric['outdoor_space_num']\n",
    "X = sm.add_constant(X) #adds a column of 1's so the model will contain an intercept, bias\n",
    "model = sm.OLS(y, X) ## must be y first in statsmodel syntax (scikit learn is x first)\n",
    "results = model.fit() #fit the model (this is where OLS is actually being run) - WHere math is done\n",
    "print(results.summary())"
   ]
  },
  {
   "cell_type": "code",
   "execution_count": 42,
   "metadata": {},
   "outputs": [
    {
     "name": "stdout",
     "output_type": "stream",
     "text": [
      "                            OLS Regression Results                            \n",
      "==============================================================================\n",
      "Dep. Variable:                  slots   R-squared:                       0.039\n",
      "Model:                            OLS   Adj. R-squared:                  0.038\n",
      "Method:                 Least Squares   F-statistic:                     31.46\n",
      "Date:                Thu, 31 Aug 2023   Prob (F-statistic):           2.85e-08\n",
      "Time:                        12:06:15   Log-Likelihood:                -2580.0\n",
      "No. Observations:                 768   AIC:                             5164.\n",
      "Df Residuals:                     766   BIC:                             5173.\n",
      "Df Model:                           1                                         \n",
      "Covariance Type:            nonrobust                                         \n",
      "==============================================================================\n",
      "                 coef    std err          t      P>|t|      [0.025      0.975]\n",
      "------------------------------------------------------------------------------\n",
      "const         19.8939      0.441     45.144      0.000      19.029      20.759\n",
      "num_parks      0.2072      0.037      5.609      0.000       0.135       0.280\n",
      "==============================================================================\n",
      "Omnibus:                      440.563   Durbin-Watson:                   1.673\n",
      "Prob(Omnibus):                  0.000   Jarque-Bera (JB):             5092.748\n",
      "Skew:                           2.369   Prob(JB):                         0.00\n",
      "Kurtosis:                      14.692   Cond. No.                         21.0\n",
      "==============================================================================\n",
      "\n",
      "Notes:\n",
      "[1] Standard Errors assume that the covariance matrix of the errors is correctly specified.\n"
     ]
    }
   ],
   "source": [
    "#slots bikes + parks_num\n",
    "y = all_data_numeric['slots']\n",
    "X = all_data_numeric['num_parks']\n",
    "X = sm.add_constant(X) #adds a column of 1's so the model will contain an intercept, bias\n",
    "model = sm.OLS(y, X) ## must be y first in statsmodel syntax (scikit learn is x first)\n",
    "results = model.fit() #fit the model (this is where OLS is actually being run) - WHere math is done\n",
    "print(results.summary())"
   ]
  },
  {
   "cell_type": "markdown",
   "metadata": {},
   "source": [
    "## Provide model output and an interpretation of the results. "
   ]
  },
  {
   "cell_type": "markdown",
   "metadata": {},
   "source": [
    "#### Model Output"
   ]
  },
  {
   "cell_type": "markdown",
   "metadata": {},
   "source": [
    "#### Model Interpretation:\n",
    "\n",
    "**Note:**\n",
    "* the number of parks is a subset of the number of outdoor spaces, as a result the independence assumption is violated. I will continue since these are the only two possible independent variables I have collected at this time. \n",
    "\n"
   ]
  },
  {
   "cell_type": "code",
   "execution_count": null,
   "metadata": {
    "tags": []
   },
   "outputs": [],
   "source": []
  },
  {
   "cell_type": "markdown",
   "metadata": {},
   "source": [
    "# 2. Stretch"
   ]
  },
  {
   "cell_type": "markdown",
   "metadata": {},
   "source": [
    "How can you turn the regression model into a classification model?\n",
    "\n",
    "cat variable if ebikes are available. "
   ]
  },
  {
   "cell_type": "code",
   "execution_count": null,
   "metadata": {},
   "outputs": [],
   "source": [
    "# assign a category to each station \n",
    "# "
   ]
  }
 ],
 "metadata": {
  "kernelspec": {
   "display_name": "lhl_env",
   "language": "python",
   "name": "lhl_env"
  },
  "language_info": {
   "codemirror_mode": {
    "name": "ipython",
    "version": 3
   },
   "file_extension": ".py",
   "mimetype": "text/x-python",
   "name": "python",
   "nbconvert_exporter": "python",
   "pygments_lexer": "ipython3",
   "version": "3.9.16"
  }
 },
 "nbformat": 4,
 "nbformat_minor": 4
}
